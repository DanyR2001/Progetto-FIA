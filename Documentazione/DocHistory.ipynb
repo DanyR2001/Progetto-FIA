{
  "nbformat": 4,
  "nbformat_minor": 0,
  "metadata": {
    "colab": {
      "provenance": [],
      "authorship_tag": "ABX9TyNWU2vvyy/iNVLktTrvjeyD",
      "include_colab_link": true
    },
    "kernelspec": {
      "name": "python3",
      "display_name": "Python 3"
    },
    "language_info": {
      "name": "python"
    }
  },
  "cells": [
    {
      "cell_type": "markdown",
      "metadata": {
        "id": "view-in-github",
        "colab_type": "text"
      },
      "source": [
        "<a href=\"https://colab.research.google.com/github/DanyR2001/Progetto-FIA/blob/main/Documentazione/DocHistory.ipynb\" target=\"_parent\"><img src=\"https://colab.research.google.com/assets/colab-badge.svg\" alt=\"Open In Colab\"/></a>"
      ]
    },
    {
      "cell_type": "markdown",
      "source": [
        "#Introduzione"
      ],
      "metadata": {
        "id": "ZBci3XUl7mif"
      }
    },
    {
      "cell_type": "markdown",
      "source": [
        "Di seguito verrà riportato il processo di studio, analisi dei dati per il progetto RegressorComparato. Il progetto prevedere 2 modalità di utilizzo:\n",
        "- **Auto**: Il programma prova in mainera automatica proverà ad effetuare le fasi di feature selection, scaling, ecc. I risultati non potranno essere eccelsi, ma per chi non è avvezzo ai dati potrebbe essere una soluzione.\n",
        "- **Manual**: Passeremo noi al programma i le feature sulle quali vengono effettuate tutte le fasi di del modello CRISP-DM.\n",
        "\n",
        "Qui verrano riporatate tutte le fasi di data understanding per la modalità Manual.\n"
      ],
      "metadata": {
        "id": "M6PEAVoX1u18"
      }
    },
    {
      "cell_type": "markdown",
      "source": [
        "**Obiettivo**: Dato un dataset di dipendenti statali, provare a stimare i \"Benefits\" dello stipendio; ovvero i sussidi aggiuntivi allo stipendio."
      ],
      "metadata": {
        "id": "T2YfjLat2_uc"
      }
    },
    {
      "cell_type": "markdown",
      "source": [
        "**N.B**: Il seguente blocco note serve per illustrare e motiavare nello specifico le scelte che sono state prese sui dati del progetto, il reale progetto, con il suo codice e i suoi moduli, è disponibile su GitHub al seguente [link](https://github.com/DanyR2001/Progetto-FIA/tree/main)."
      ],
      "metadata": {
        "id": "UAGYwUiMpREe"
      }
    },
    {
      "cell_type": "markdown",
      "source": [
        "#Normalizzazione del Dataset"
      ],
      "metadata": {
        "id": "pltCq5lr4aW-"
      }
    },
    {
      "cell_type": "markdown",
      "source": [
        "Come prima cosa, dobbiamo poter rendere i dati fruibili per i regressori, ovvero in formato numerico. Dobbiamo capire quale metodologia ci convega adottare, trovando un trad-off tra memoria e efficacia.\n",
        "\n",
        "\n",
        "---\n",
        "\n",
        "\n",
        "Inzialmente ho prodotto un file che sostituisce autamaticamente i campi stringa di un dataset con un numero, producedo un nuovo dataset e un file .txt dove riporatare le modifiche.\n",
        "\n",
        "\n",
        "---\n",
        "\n",
        "\n",
        "Il quesito che dobbiamo porci è il seguente, la oneHotEncoder migliorerà l'accuratezza del nostro regressore? Ricordiamo che questa codifica è estremamente costosa computazionalemte parlando. Verifichiamo:"
      ],
      "metadata": {
        "id": "JrC-BmG-4fan"
      }
    },
    {
      "cell_type": "markdown",
      "source": [
        "Iniziamo ad importare il dataset e a capire il formato dei suoi campi."
      ],
      "metadata": {
        "id": "TmCs62xQ8WHR"
      }
    },
    {
      "cell_type": "code",
      "source": [
        "import pandas as pd\n",
        "dataframe=pd.read_csv(\"./Dataset/san-francisco-payroll_2011-2019.csv\")\n",
        "print (dataframe)\n",
        "print (dataframe.info())"
      ],
      "metadata": {
        "colab": {
          "base_uri": "https://localhost:8080/"
        },
        "id": "KVLoaPfd5TfY",
        "outputId": "995ad072-b468-4524-e689-00e99c8f274a"
      },
      "execution_count": 4,
      "outputs": [
        {
          "output_type": "stream",
          "name": "stderr",
          "text": [
            "<ipython-input-4-f6a710629a9a>:2: DtypeWarning: Columns (2,3,4,5,9) have mixed types. Specify dtype option on import or set low_memory=False.\n",
            "  dataframe=pd.read_csv(\"./Dataset/san-francisco-payroll_2011-2019.csv\")\n"
          ]
        },
        {
          "output_type": "stream",
          "name": "stdout",
          "text": [
            "           Employee Name                                       Job Title  \\\n",
            "0       Janet Lee Miller                         Court Staff Attorney II   \n",
            "1               Gary Mar                  Electrical Transit System Mech   \n",
            "2       Checil A Salvosa                       Licensed Vocational Nurse   \n",
            "3       Kristian C Smock                    Stationary Eng, Sewage Plant   \n",
            "4            Yun Y Chang                             Pharmacy Technician   \n",
            "...                  ...                                             ...   \n",
            "357402      HOWARD CHUCK                                       CUSTODIAN   \n",
            "357403    BING KEUNG MAK                                       CUSTODIAN   \n",
            "357404      QIN MING ZHU                                       CUSTODIAN   \n",
            "357405       JOSE ALONZO                                       CUSTODIAN   \n",
            "357406    NATHANIEL FORD  GENERAL MANAGER-METROPOLITAN TRANSIT AUTHORITY   \n",
            "\n",
            "         Base Pay Overtime Pay  Other Pay      Benefits  Total Pay  \\\n",
            "0             0.0          0.0        0.0           0.0       0.00   \n",
            "1        97354.53       6996.5     2380.0       38855.9  106731.03   \n",
            "2         86118.0     17212.96    7272.08      34942.38  110603.04   \n",
            "3       106816.03          0.0        0.0      38729.65  106816.03   \n",
            "4        94039.13     14947.99    1241.69      35330.26  110228.81   \n",
            "...           ...          ...        ...           ...        ...   \n",
            "357402   46106.73       890.49    4839.07  Not Provided   51836.29   \n",
            "357403    48472.4      1972.35     1390.5  Not Provided   51835.25   \n",
            "357404   46046.29      1853.97    3934.44  Not Provided   51834.70   \n",
            "357405   47798.87          0.0    4032.55  Not Provided   51831.42   \n",
            "357406  167411.18          0.0  400184.25  Not Provided  567595.43   \n",
            "\n",
            "        Total Pay & Benefits  Year Status  \n",
            "0                       0.00  2019     PT  \n",
            "1                  145586.93  2019     FT  \n",
            "2                  145545.42  2019     FT  \n",
            "3                  145545.68  2019     FT  \n",
            "4                  145559.07  2019     FT  \n",
            "...                      ...   ...    ...  \n",
            "357402              51836.29  2011    NaN  \n",
            "357403              51835.25  2011    NaN  \n",
            "357404              51834.70  2011    NaN  \n",
            "357405              51831.42  2011    NaN  \n",
            "357406             567595.43  2011    NaN  \n",
            "\n",
            "[357407 rows x 10 columns]\n",
            "<class 'pandas.core.frame.DataFrame'>\n",
            "RangeIndex: 357407 entries, 0 to 357406\n",
            "Data columns (total 10 columns):\n",
            " #   Column                Non-Null Count   Dtype  \n",
            "---  ------                --------------   -----  \n",
            " 0   Employee Name         357407 non-null  object \n",
            " 1   Job Title             357407 non-null  object \n",
            " 2   Base Pay              357407 non-null  object \n",
            " 3   Overtime Pay          357407 non-null  object \n",
            " 4   Other Pay             357407 non-null  object \n",
            " 5   Benefits              357407 non-null  object \n",
            " 6   Total Pay             357407 non-null  float64\n",
            " 7   Total Pay & Benefits  357407 non-null  float64\n",
            " 8   Year                  357407 non-null  int64  \n",
            " 9   Status                205906 non-null  object \n",
            "dtypes: float64(2), int64(1), object(7)\n",
            "memory usage: 27.3+ MB\n",
            "None\n"
          ]
        }
      ]
    },
    {
      "cell_type": "markdown",
      "source": [
        "Come prima cosa notiamo che abbiamo il nome del dipendete nella colonna \"Employee Name\", informazione univoca della quale noi non abbiamo bisogno, quindi la eliminiamo."
      ],
      "metadata": {
        "id": "Z0YUZNSI8Nuy"
      }
    },
    {
      "cell_type": "code",
      "source": [
        "dataframe=dataframe.drop(columns=[\"Employee Name\"])"
      ],
      "metadata": {
        "id": "s5ux7qYq8MOr"
      },
      "execution_count": 5,
      "outputs": []
    },
    {
      "cell_type": "markdown",
      "source": [
        "Notiamo la presenza di Nan e di \"Not provided\", vista la grande quantità di tuple possiamo anche pensare di eliminare le righe che non ci danno informazioni. Notiamo che i Nan rappresentano una piccola perdita di informazioni visto che li troviamo solo nella feature \"Status\", a differenza dei \"Not Provided\"."
      ],
      "metadata": {
        "id": "pbLgQT3i8ZWf"
      }
    },
    {
      "cell_type": "code",
      "source": [
        "print(\"Number of istance Nan in tutto il dataset:\" + str(dataframe.isna().sum().sum()))\n",
        "print(\"Number of istance Nan nella colonna 'Status' :\" + str(dataframe[\"Status\"].isna().sum()))"
      ],
      "metadata": {
        "colab": {
          "base_uri": "https://localhost:8080/"
        },
        "id": "uFeQl2bY81az",
        "outputId": "7c42abfd-cddb-4dde-cb7f-708049e8db79"
      },
      "execution_count": 6,
      "outputs": [
        {
          "output_type": "stream",
          "name": "stdout",
          "text": [
            "Number of istance Nan in tutto il dataset:151501\n",
            "Number of istance Nan nella colonna 'Status' :151501\n"
          ]
        }
      ]
    },
    {
      "cell_type": "markdown",
      "source": [
        "Possiamo sostituirlo con \"Non Presente\"."
      ],
      "metadata": {
        "id": "RLTN3BUn9DyW"
      }
    },
    {
      "cell_type": "code",
      "source": [
        "import numpy as np\n",
        "dataframe=dataframe.replace(np.nan,\"Not Present\",regex=True)\n",
        "print(\"Number of istance Nan in tutto il dataset:\" + str(dataframe.isna().sum().sum()))\n",
        "print(\"Number of istance Nan nella colonna 'Status' :\" + str(dataframe[\"Status\"].isna().sum()))"
      ],
      "metadata": {
        "colab": {
          "base_uri": "https://localhost:8080/"
        },
        "id": "DSVP6k939UmV",
        "outputId": "4606b6ae-2544-49a5-8604-17f1a03bcdd6"
      },
      "execution_count": 7,
      "outputs": [
        {
          "output_type": "stream",
          "name": "stdout",
          "text": [
            "Number of istance Nan in tutto il dataset:0\n",
            "Number of istance Nan nella colonna 'Status' :0\n"
          ]
        }
      ]
    },
    {
      "cell_type": "markdown",
      "source": [
        "Ora dobbiamo capire l'entità dei \"Not Provided\"."
      ],
      "metadata": {
        "id": "-t8Unj1M9mr4"
      }
    },
    {
      "cell_type": "code",
      "source": [
        "print (\"Number of row: \"+str(len(dataframe.index)))\n",
        "print (\"Number on 'Not Provided': \"+str(dataframe[dataframe == 'Not Provided'].count()))"
      ],
      "metadata": {
        "colab": {
          "base_uri": "https://localhost:8080/"
        },
        "id": "QnDYyWFq9rzW",
        "outputId": "7b56a544-c1ae-43da-c663-529b5522d830"
      },
      "execution_count": 8,
      "outputs": [
        {
          "output_type": "stream",
          "name": "stdout",
          "text": [
            "Number of row: 357407\n",
            "Number on 'Not Provided': Job Title                  11\n",
            "Base Pay                  606\n",
            "Overtime Pay                1\n",
            "Other Pay                   1\n",
            "Benefits                36160\n",
            "Total Pay                   0\n",
            "Total Pay & Benefits        0\n",
            "Year                        0\n",
            "Status                      0\n",
            "dtype: int64\n"
          ]
        }
      ]
    },
    {
      "cell_type": "markdown",
      "source": [
        "Vista la piccola quantita di righe possiamo eliminarle."
      ],
      "metadata": {
        "id": "Ae-1St69-fJ1"
      }
    },
    {
      "cell_type": "code",
      "source": [
        "print (\"Number of row before cleaning: \"+str(len(dataframe.index)))\n",
        "dataframe=dataframe.replace(\"Not Provided\",np.nan,regex=True)\n",
        "print(\"Number of istance Nan in tutto il dataset before cleaning:\" + str(dataframe.isna().sum().sum()))\n",
        "dataframe=dataframe.dropna()\n",
        "print(\"Number of istance Nan in tutto il dataset after cleaning:\" + str(dataframe.isna().sum().sum()))\n",
        "print (\"Number of row after cleaning: \"+str(len(dataframe.index)))"
      ],
      "metadata": {
        "colab": {
          "base_uri": "https://localhost:8080/"
        },
        "id": "d8gMPEbL-j7f",
        "outputId": "c3b96119-09bd-4669-825f-5beb95e6759f"
      },
      "execution_count": 9,
      "outputs": [
        {
          "output_type": "stream",
          "name": "stdout",
          "text": [
            "Number of row before cleaning: 357407\n",
            "Number of istance Nan in tutto il dataset before cleaning:36779\n",
            "Number of istance Nan in tutto il dataset after cleaning:0\n",
            "Number of row after cleaning: 320631\n"
          ]
        }
      ]
    },
    {
      "cell_type": "markdown",
      "source": [
        "Aggiorniamo il tipo delle colonne modificate"
      ],
      "metadata": {
        "id": "Wehv8UdfiQXl"
      }
    },
    {
      "cell_type": "code",
      "source": [
        "print(dataframe.info())"
      ],
      "metadata": {
        "colab": {
          "base_uri": "https://localhost:8080/"
        },
        "id": "mACcyyd2iPUJ",
        "outputId": "c087ded3-7deb-4782-a71a-8835da110683"
      },
      "execution_count": 10,
      "outputs": [
        {
          "output_type": "stream",
          "name": "stdout",
          "text": [
            "<class 'pandas.core.frame.DataFrame'>\n",
            "Int64Index: 320631 entries, 0 to 321247\n",
            "Data columns (total 9 columns):\n",
            " #   Column                Non-Null Count   Dtype  \n",
            "---  ------                --------------   -----  \n",
            " 0   Job Title             320631 non-null  object \n",
            " 1   Base Pay              320631 non-null  object \n",
            " 2   Overtime Pay          320631 non-null  object \n",
            " 3   Other Pay             320631 non-null  object \n",
            " 4   Benefits              320631 non-null  object \n",
            " 5   Total Pay             320631 non-null  float64\n",
            " 6   Total Pay & Benefits  320631 non-null  float64\n",
            " 7   Year                  320631 non-null  int64  \n",
            " 8   Status                320631 non-null  object \n",
            "dtypes: float64(2), int64(1), object(6)\n",
            "memory usage: 24.5+ MB\n",
            "None\n"
          ]
        }
      ]
    },
    {
      "cell_type": "code",
      "source": [
        "dataframe['Job Title']=dataframe['Job Title'].astype(str)\n",
        "dataframe['Base Pay']=dataframe['Base Pay'].astype(np.float64)\n",
        "dataframe['Overtime Pay']=dataframe['Overtime Pay'].astype(np.float64)\n",
        "dataframe['Other Pay']=dataframe['Other Pay'].astype(np.float64)\n",
        "dataframe['Benefits']=dataframe['Benefits'].astype(np.float64)\n",
        "dataframe['Status']=dataframe['Status'].astype(str)\n",
        "print(dataframe.info())"
      ],
      "metadata": {
        "colab": {
          "base_uri": "https://localhost:8080/"
        },
        "id": "v56ZEhYciqxq",
        "outputId": "af0a42f3-e174-4825-9af1-95be6f4e91e8"
      },
      "execution_count": 11,
      "outputs": [
        {
          "output_type": "stream",
          "name": "stdout",
          "text": [
            "<class 'pandas.core.frame.DataFrame'>\n",
            "Int64Index: 320631 entries, 0 to 321247\n",
            "Data columns (total 9 columns):\n",
            " #   Column                Non-Null Count   Dtype  \n",
            "---  ------                --------------   -----  \n",
            " 0   Job Title             320631 non-null  object \n",
            " 1   Base Pay              320631 non-null  float64\n",
            " 2   Overtime Pay          320631 non-null  float64\n",
            " 3   Other Pay             320631 non-null  float64\n",
            " 4   Benefits              320631 non-null  float64\n",
            " 5   Total Pay             320631 non-null  float64\n",
            " 6   Total Pay & Benefits  320631 non-null  float64\n",
            " 7   Year                  320631 non-null  int64  \n",
            " 8   Status                320631 non-null  object \n",
            "dtypes: float64(6), int64(1), object(2)\n",
            "memory usage: 24.5+ MB\n",
            "None\n"
          ]
        }
      ]
    },
    {
      "cell_type": "markdown",
      "source": [
        "Arriviamo ora alla principale domanda, conviene utilizzare la oneHotEncoder su un classico personal computer? Verifichiamo quanto occupa attualemte il dataframe"
      ],
      "metadata": {
        "id": "H_YxQs0tDCRT"
      }
    },
    {
      "cell_type": "code",
      "source": [
        "print (\"Usage memory in MB:\")\n",
        "print((dataframe.memory_usage(deep=True).sum())/(1024**2))\n",
        "memory_old=(dataframe.memory_usage(deep=True).sum())/(1024**2)"
      ],
      "metadata": {
        "colab": {
          "base_uri": "https://localhost:8080/"
        },
        "id": "DXCAKUm9DW0Y",
        "outputId": "dd04be30-fae1-4d2e-bd67-94dd0041d4a0"
      },
      "execution_count": 12,
      "outputs": [
        {
          "output_type": "stream",
          "name": "stdout",
          "text": [
            "Usage memory in MB:\n",
            "61.76742744445801\n"
          ]
        }
      ]
    },
    {
      "cell_type": "markdown",
      "source": [
        "Ora applichiamo la OneHotEncoder sulle 2 colonne non numeriche che abbiamo. Prima capiamo quanti e quali valori abbiamo:"
      ],
      "metadata": {
        "id": "wWE5AwJRFKuH"
      }
    },
    {
      "cell_type": "code",
      "source": [
        "print(\"Numero di valori 'Job Title':\")\n",
        "print(dataframe['Job Title'].nunique())\n",
        "print(\"Valori:\")\n",
        "print(dataframe['Job Title'].unique())\n",
        "\n",
        "print(\"Numero di valori 'Status':\")\n",
        "print(dataframe['Status'].nunique())\n",
        "print(\"Valori:\")\n",
        "print(dataframe['Status'].unique())\n"
      ],
      "metadata": {
        "colab": {
          "base_uri": "https://localhost:8080/"
        },
        "id": "yMYHfouaGCnp",
        "outputId": "97e1d713-6b27-4889-eef3-697050fb307d"
      },
      "execution_count": 13,
      "outputs": [
        {
          "output_type": "stream",
          "name": "stdout",
          "text": [
            "Numero di valori 'Job Title':\n",
            "1256\n",
            "Valori:\n",
            "['Court Staff Attorney II' 'Electrical Transit System Mech'\n",
            " 'Licensed Vocational Nurse' ... 'IS Technical-Journey'\n",
            " 'Legislative Calendar Clerk' 'Police Services Aide']\n",
            "Numero di valori 'Status':\n",
            "3\n",
            "Valori:\n",
            "['PT' 'FT' 'Not Present']\n"
          ]
        }
      ]
    },
    {
      "cell_type": "markdown",
      "source": [
        "Applichiamo la codifica"
      ],
      "metadata": {
        "id": "OTw1uJ-MJnWj"
      }
    },
    {
      "cell_type": "code",
      "source": [
        "df_enc_oneHot = pd.get_dummies(dataframe, columns=['Job Title', 'Status'])\n",
        "print(df_enc_oneHot)\n",
        "print(df_enc_oneHot.info())"
      ],
      "metadata": {
        "colab": {
          "base_uri": "https://localhost:8080/"
        },
        "id": "q5OPPIhrJqND",
        "outputId": "c969d22d-9fd5-4e9e-e759-3bfab05ac652"
      },
      "execution_count": 14,
      "outputs": [
        {
          "output_type": "stream",
          "name": "stdout",
          "text": [
            "         Base Pay  Overtime Pay  Other Pay  Benefits  Total Pay  \\\n",
            "0            0.00          0.00       0.00      0.00       0.00   \n",
            "1        97354.53       6996.50    2380.00  38855.90  106731.03   \n",
            "2        86118.00      17212.96    7272.08  34942.38  110603.04   \n",
            "3       106816.03          0.00       0.00  38729.65  106816.03   \n",
            "4        94039.13      14947.99    1241.69  35330.26  110228.81   \n",
            "...           ...           ...        ...       ...        ...   \n",
            "321243   51250.04          0.00     624.00  27041.97   51874.04   \n",
            "321244   50154.51        112.37     400.00  28254.79   50666.88   \n",
            "321245   51250.00          0.00     624.00  26995.16   51874.00   \n",
            "321246   51485.11          0.00     810.00  26636.58   52295.11   \n",
            "321247   61346.43          0.00       0.00  17590.09   61346.43   \n",
            "\n",
            "        Total Pay & Benefits  Year  Job Title_ACPO,JuvP, Juv Prob (SFERS)  \\\n",
            "0                       0.00  2019                                      0   \n",
            "1                  145586.93  2019                                      0   \n",
            "2                  145545.42  2019                                      0   \n",
            "3                  145545.68  2019                                      0   \n",
            "4                  145559.07  2019                                      0   \n",
            "...                      ...   ...                                    ...   \n",
            "321243              78916.01  2012                                      0   \n",
            "321244              78921.67  2012                                      0   \n",
            "321245              78869.16  2012                                      0   \n",
            "321246              78931.69  2012                                      0   \n",
            "321247              78936.52  2012                                      0   \n",
            "\n",
            "        Job Title_ASR Operations Supervisor  \\\n",
            "0                                         0   \n",
            "1                                         0   \n",
            "2                                         0   \n",
            "3                                         0   \n",
            "4                                         0   \n",
            "...                                     ...   \n",
            "321243                                    0   \n",
            "321244                                    0   \n",
            "321245                                    0   \n",
            "321246                                    0   \n",
            "321247                                    0   \n",
            "\n",
            "        Job Title_ASR Senior Office Specialist  ...  \\\n",
            "0                                            0  ...   \n",
            "1                                            0  ...   \n",
            "2                                            0  ...   \n",
            "3                                            0  ...   \n",
            "4                                            0  ...   \n",
            "...                                        ...  ...   \n",
            "321243                                       0  ...   \n",
            "321244                                       0  ...   \n",
            "321245                                       0  ...   \n",
            "321246                                       0  ...   \n",
            "321247                                       0  ...   \n",
            "\n",
            "        Job Title_Wire Rope Cable Maint Mechanic  \\\n",
            "0                                              0   \n",
            "1                                              0   \n",
            "2                                              0   \n",
            "3                                              0   \n",
            "4                                              0   \n",
            "...                                          ...   \n",
            "321243                                         0   \n",
            "321244                                         0   \n",
            "321245                                         0   \n",
            "321246                                         0   \n",
            "321247                                         0   \n",
            "\n",
            "        Job Title_Wire Rope Cable Maint Sprv  \\\n",
            "0                                          0   \n",
            "1                                          0   \n",
            "2                                          0   \n",
            "3                                          0   \n",
            "4                                          0   \n",
            "...                                      ...   \n",
            "321243                                     0   \n",
            "321244                                     0   \n",
            "321245                                     0   \n",
            "321246                                     0   \n",
            "321247                                     0   \n",
            "\n",
            "        Job Title_WireRopeCable Maint Mech Train  \\\n",
            "0                                              0   \n",
            "1                                              0   \n",
            "2                                              0   \n",
            "3                                              0   \n",
            "4                                              0   \n",
            "...                                          ...   \n",
            "321243                                         0   \n",
            "321244                                         0   \n",
            "321245                                         0   \n",
            "321246                                         0   \n",
            "321247                                         0   \n",
            "\n",
            "        Job Title_Worker's Comp Supervisor 1  \\\n",
            "0                                          0   \n",
            "1                                          0   \n",
            "2                                          0   \n",
            "3                                          0   \n",
            "4                                          0   \n",
            "...                                      ...   \n",
            "321243                                     0   \n",
            "321244                                     0   \n",
            "321245                                     0   \n",
            "321246                                     0   \n",
            "321247                                     0   \n",
            "\n",
            "        Job Title_Worker's Compensation Adjuster  \\\n",
            "0                                              0   \n",
            "1                                              0   \n",
            "2                                              0   \n",
            "3                                              0   \n",
            "4                                              0   \n",
            "...                                          ...   \n",
            "321243                                         0   \n",
            "321244                                         0   \n",
            "321245                                         0   \n",
            "321246                                         0   \n",
            "321247                                         0   \n",
            "\n",
            "        Job Title_X-Ray Laboratory Aide  Job Title_Youth Comm Advisor  \\\n",
            "0                                     0                             0   \n",
            "1                                     0                             0   \n",
            "2                                     0                             0   \n",
            "3                                     0                             0   \n",
            "4                                     0                             0   \n",
            "...                                 ...                           ...   \n",
            "321243                                0                             0   \n",
            "321244                                0                             0   \n",
            "321245                                0                             0   \n",
            "321246                                0                             0   \n",
            "321247                                0                             0   \n",
            "\n",
            "        Status_FT  Status_Not Present  Status_PT  \n",
            "0               0                   0          1  \n",
            "1               1                   0          0  \n",
            "2               1                   0          0  \n",
            "3               1                   0          0  \n",
            "4               1                   0          0  \n",
            "...           ...                 ...        ...  \n",
            "321243          0                   1          0  \n",
            "321244          0                   1          0  \n",
            "321245          0                   1          0  \n",
            "321246          0                   1          0  \n",
            "321247          0                   1          0  \n",
            "\n",
            "[320631 rows x 1266 columns]\n",
            "<class 'pandas.core.frame.DataFrame'>\n",
            "Int64Index: 320631 entries, 0 to 321247\n",
            "Columns: 1266 entries, Base Pay to Status_PT\n",
            "dtypes: float64(6), int64(1), uint8(1259)\n",
            "memory usage: 404.5 MB\n",
            "None\n"
          ]
        }
      ]
    },
    {
      "cell_type": "markdown",
      "source": [
        "Vediamo l'occupazione di memoria:"
      ],
      "metadata": {
        "id": "qOi4eRvdKpzH"
      }
    },
    {
      "cell_type": "code",
      "source": [
        "print (\"Usage memory in MB:\")\n",
        "print((df_enc_oneHot.memory_usage(deep=True).sum())/(1024**2))\n",
        "memory_new=(df_enc_oneHot.memory_usage(deep=True).sum())/(1024**2)"
      ],
      "metadata": {
        "colab": {
          "base_uri": "https://localhost:8080/"
        },
        "id": "z_pIRR--KwP5",
        "outputId": "7ce49779-1be1-496f-f163-abe24a916bbb"
      },
      "execution_count": 15,
      "outputs": [
        {
          "output_type": "stream",
          "name": "stdout",
          "text": [
            "Usage memory in MB:\n",
            "404.54369831085205\n"
          ]
        }
      ]
    },
    {
      "cell_type": "markdown",
      "source": [
        "Vediamo la differenza in temini percentuali:"
      ],
      "metadata": {
        "id": "zCmT00DZKtdA"
      }
    },
    {
      "cell_type": "code",
      "source": [
        "percentuale_incremento = ((memory_new - memory_old) / memory_old) * 100\n",
        "print(str(percentuale_incremento)+\"%\")"
      ],
      "metadata": {
        "colab": {
          "base_uri": "https://localhost:8080/"
        },
        "id": "NWGZlZmHLj1L",
        "outputId": "80049cc2-6854-4927-c0d3-96b6d2f1b5cb"
      },
      "execution_count": 16,
      "outputs": [
        {
          "output_type": "stream",
          "name": "stdout",
          "text": [
            "554.9466523834467%\n"
          ]
        }
      ]
    },
    {
      "cell_type": "markdown",
      "source": [
        "Creaiamo anche un dataset con codifica lable->numero."
      ],
      "metadata": {
        "id": "hfO52VQQel2o"
      }
    },
    {
      "cell_type": "code",
      "source": [
        "from sklearn import preprocessing\n",
        "label_encoder = preprocessing.LabelEncoder()\n",
        "\n",
        "df_enc_simp=dataframe\n",
        "df_enc_simp['Job Title']= label_encoder.fit_transform(df_enc_simp['Job Title'])\n",
        "df_enc_simp['Job Title']=df_enc_simp['Job Title'].astype(np.int64)\n",
        "df_enc_simp['Status']= label_encoder.fit_transform(df_enc_simp['Status'])\n"
      ],
      "metadata": {
        "id": "5wwnsYches2p"
      },
      "execution_count": 17,
      "outputs": []
    },
    {
      "cell_type": "markdown",
      "source": [
        "#Analisi del dataset"
      ],
      "metadata": {
        "id": "bOlNqlWx1jF0"
      }
    },
    {
      "cell_type": "markdown",
      "source": [
        "Come prima cosa cerchiamo di capire come i dati siano tra loro correlati, in quanto se abbiamo una dipendeza lineare tra le feature, abbiamo maggiori possibilità di successo per i regressori di tipo lienare. Per fare cio utiliezzeremo la matrice di correlazione."
      ],
      "metadata": {
        "id": "eo3nPpt-3fCl"
      }
    },
    {
      "cell_type": "markdown",
      "source": [
        "Ovviamente prima andremo ad eliminare le feature che non ci servono, ovvere \"Total Pay\" e \"Total Pay & Benefits\", in quanto questi sono la somma di altre variabili e sarebbero: ridondanti nel primo caso e forviante nel secondo."
      ],
      "metadata": {
        "id": "Jz0dOdO2mR9h"
      }
    },
    {
      "cell_type": "code",
      "source": [
        "df_enc_simp=df_enc_simp.drop(columns=[\"Total Pay\",\"Total Pay & Benefits\"])\n",
        "df_enc_oneHot=df_enc_oneHot.drop(columns=[\"Total Pay\",\"Total Pay & Benefits\"])"
      ],
      "metadata": {
        "id": "iDAEIOBQmqGO"
      },
      "execution_count": 18,
      "outputs": []
    },
    {
      "cell_type": "markdown",
      "source": [
        "Ora possiamo procedere con la verifica"
      ],
      "metadata": {
        "id": "hkTTrahym5ds"
      }
    },
    {
      "cell_type": "code",
      "source": [
        "import seaborn as sns\n",
        "import matplotlib.pyplot as plt\n",
        "\n",
        "print(df_enc_simp.info())\n",
        "correlazione = df_enc_simp.corr()\n",
        "plt.figure(figsize=(10, 8))\n",
        "sns.heatmap(correlazione, annot=True, cmap='coolwarm', fmt=\".2f\")"
      ],
      "metadata": {
        "colab": {
          "base_uri": "https://localhost:8080/",
          "height": 968
        },
        "id": "S7zVycpH36px",
        "outputId": "3f7585a8-d9bd-407b-8b37-527611c10e6f"
      },
      "execution_count": 19,
      "outputs": [
        {
          "output_type": "stream",
          "name": "stdout",
          "text": [
            "<class 'pandas.core.frame.DataFrame'>\n",
            "Int64Index: 320631 entries, 0 to 321247\n",
            "Data columns (total 7 columns):\n",
            " #   Column        Non-Null Count   Dtype  \n",
            "---  ------        --------------   -----  \n",
            " 0   Job Title     320631 non-null  int64  \n",
            " 1   Base Pay      320631 non-null  float64\n",
            " 2   Overtime Pay  320631 non-null  float64\n",
            " 3   Other Pay     320631 non-null  float64\n",
            " 4   Benefits      320631 non-null  float64\n",
            " 5   Year          320631 non-null  int64  \n",
            " 6   Status        320631 non-null  int64  \n",
            "dtypes: float64(4), int64(3)\n",
            "memory usage: 19.6 MB\n",
            "None\n"
          ]
        },
        {
          "output_type": "execute_result",
          "data": {
            "text/plain": [
              "<Axes: >"
            ]
          },
          "metadata": {},
          "execution_count": 19
        },
        {
          "output_type": "display_data",
          "data": {
            "text/plain": [
              "<Figure size 1000x800 with 2 Axes>"
            ],
            "image/png": "[encoded data removed]"
          },
          "metadata": {}
        }
      ]
    },
    {
      "cell_type": "markdown",
      "source": [
        "Come possiamo notare le variabili con correlazione positiva con la nostra variabile target -ovvero \"Benefits\"- sono:\n",
        "- BasePay\n",
        "- OverTime Pay\n",
        "- Other Pay\n",
        "\n",
        "Visto e considerato questo, andremo a fare una pulizia di queste feature eliminando tutte quelle che sono uguali a zero."
      ],
      "metadata": {
        "id": "Wix72GiXnE-H"
      }
    },
    {
      "cell_type": "code",
      "source": [
        "print (\"Number of row before cleaning: \"+str(len(df_enc_simp.index)))\n",
        "df_enc_simp.drop(df_enc_simp[df_enc_simp['Base Pay'] == 0].index, inplace=True)\n",
        "df_enc_simp.drop(df_enc_simp[df_enc_simp['Benefits'] == 0].index, inplace=True)\n",
        "print (\"Number of row after cleaning: \"+str(len(df_enc_simp.index)))\n",
        "df_enc_oneHot.drop(df_enc_oneHot[df_enc_oneHot['Base Pay'] == 0].index, inplace=True)\n",
        "df_enc_oneHot.drop(df_enc_oneHot[df_enc_oneHot['Benefits'] == 0].index, inplace=True)"
      ],
      "metadata": {
        "colab": {
          "base_uri": "https://localhost:8080/"
        },
        "id": "qm7kEz_eoTkQ",
        "outputId": "1d40d649-865a-4d75-e53c-00dea55efba6"
      },
      "execution_count": 20,
      "outputs": [
        {
          "output_type": "stream",
          "name": "stdout",
          "text": [
            "Number of row before cleaning: 320631\n",
            "Number of row after cleaning: 313522\n"
          ]
        }
      ]
    },
    {
      "cell_type": "markdown",
      "source": [
        "Ricordiamo l'obbiettivo di questo blocco note non è sviluppare il progetto ma capire se implementare o meno alcune funzionalità e giustificare le scelte prese nel progetto, le quali altrimenti potrebbero risultare aleatorie.\n",
        "Per verificare o meno l'efficacia delle oneHotEncoder la utlizzeremo con un singolo Regressore."
      ],
      "metadata": {
        "id": "g9u0JPxUqVtu"
      }
    },
    {
      "cell_type": "code",
      "source": [
        "from sklearn import linear_model\n",
        "\n",
        "Agente=linear_model.LinearRegression(n_jobs=-1)\n"
      ],
      "metadata": {
        "id": "v2OUZYoUrFsi"
      },
      "execution_count": 21,
      "outputs": []
    },
    {
      "cell_type": "markdown",
      "source": [
        "Dividiamo il dataset in test e train:"
      ],
      "metadata": {
        "id": "fJ5L06cmrWhM"
      }
    },
    {
      "cell_type": "code",
      "source": [
        "import random\n",
        "from sklearn.model_selection import train_test_split\n",
        "\n",
        "\n",
        "var_dip = df_enc_simp['Benefits']\n",
        "var_ind = df_enc_simp.drop(columns=['Benefits'])\n",
        "\n",
        "indi_training_set,indi_testing_set,dip_training_set,dip_test_set = train_test_split(var_ind, var_dip,test_size=0.33,random_state=random.randint(0, 256), shuffle=True)\n"
      ],
      "metadata": {
        "id": "VWEX-741raYm"
      },
      "execution_count": 22,
      "outputs": []
    },
    {
      "cell_type": "markdown",
      "source": [
        "Addestriamo e testiamo:"
      ],
      "metadata": {
        "id": "mFcb3CpMsvoH"
      }
    },
    {
      "cell_type": "code",
      "source": [
        "from sklearn.model_selection import cross_validate, RepeatedKFold\n",
        "import statistics\n",
        "\n",
        "\n",
        "rfk = RepeatedKFold(n_splits=2, n_repeats=2, random_state=random.randint(0, 256))\n",
        "tests = list([\"neg_mean_absolute_error\", \"neg_mean_squared_error\",\"neg_root_mean_squared_error\", \"r2\"])\n",
        "cv_score = cross_validate(Agente, indi_training_set, dip_training_set, cv=rfk, n_jobs=1, verbose=5, scoring=tests)\n",
        "fit_time_mean = statistics.mean(cv_score['fit_time'])\n",
        "score_time_mean = statistics.mean(cv_score['score_time'])\n",
        "mean_absolute = statistics.mean(cv_score['test_neg_mean_absolute_error'])\n",
        "mean_squared = statistics.mean(cv_score['test_neg_mean_squared_error'])\n",
        "root_mean_absolute = statistics.mean(cv_score['test_neg_root_mean_squared_error'])\n",
        "r2 = statistics.mean(cv_score['test_r2'])\n",
        "\n",
        "print(\"Fit time:\"+str(fit_time_mean)+\"Score time:\"+str(score_time_mean)+\" MAE: \"+str(mean_absolute)+\" MSE: \"+str(mean_squared)+\" RMSE: \"+str(root_mean_absolute)+\" r2: \"+str(r2))"
      ],
      "metadata": {
        "colab": {
          "base_uri": "https://localhost:8080/"
        },
        "id": "quH4upXesxj0",
        "outputId": "ffe203cb-b634-4344-ca2e-a3ccd8b6aa46"
      },
      "execution_count": 23,
      "outputs": [
        {
          "output_type": "stream",
          "name": "stdout",
          "text": [
            "[CV] END  neg_mean_absolute_error: (test=-3928.520) neg_mean_squared_error: (test=-30307739.227) neg_root_mean_squared_error: (test=-5505.247) r2: (test=0.869) total time=   0.1s\n",
            "[CV] END  neg_mean_absolute_error: (test=-3926.592) neg_mean_squared_error: (test=-29905364.174) neg_root_mean_squared_error: (test=-5468.580) r2: (test=0.869) total time=   0.1s\n",
            "[CV] END  neg_mean_absolute_error: (test=-3934.706) neg_mean_squared_error: (test=-30235604.911) neg_root_mean_squared_error: (test=-5498.691) r2: (test=0.868) total time=   0.1s\n",
            "[CV] END  neg_mean_absolute_error: (test=-3921.191) neg_mean_squared_error: (test=-29986195.787) neg_root_mean_squared_error: (test=-5475.965) r2: (test=0.870) total time=   0.1s\n",
            "Fit time:0.07987344264984131Score time:0.018843770027160645 MAE: -3927.752048761883 MSE: -30108726.024624106 RMSE: -5487.1206808661655 r2: 0.8691083356744873\n"
          ]
        }
      ]
    },
    {
      "cell_type": "markdown",
      "source": [
        "Proviamo con l'altro dataset"
      ],
      "metadata": {
        "id": "sq8r1T0QtrHM"
      }
    },
    {
      "cell_type": "code",
      "source": [
        "var_dip = df_enc_oneHot['Benefits']\n",
        "var_ind = df_enc_oneHot.drop(columns=['Benefits'])\n",
        "\n",
        "indi_training_set,indi_testing_set,dip_training_set,dip_test_set = train_test_split(var_ind, var_dip,test_size=0.33,random_state=random.randint(0, 256), shuffle=True)\n",
        "\n",
        "rfk = RepeatedKFold(n_splits=2, n_repeats=2, random_state=random.randint(0, 256))\n",
        "tests = list([\"neg_mean_absolute_error\", \"neg_mean_squared_error\",\"neg_root_mean_squared_error\", \"r2\"])\n",
        "cv_score = cross_validate(Agente, indi_training_set, dip_training_set, cv=rfk, n_jobs=1, verbose=5, scoring=tests)\n",
        "fit_time_mean = statistics.mean(cv_score['fit_time'])\n",
        "score_time_mean = statistics.mean(cv_score['score_time'])\n",
        "mean_absolute = statistics.mean(cv_score['test_neg_mean_absolute_error'])\n",
        "mean_squared = statistics.mean(cv_score['test_neg_mean_squared_error'])\n",
        "root_mean_absolute = statistics.mean(cv_score['test_neg_root_mean_squared_error'])\n",
        "r2 = statistics.mean(cv_score['test_r2'])\n",
        "\n",
        "print(\"Fit time:\"+str(fit_time_mean)+\" Score time:\"+str(score_time_mean)+\" MAE: \"+str(mean_absolute)+\" MSE: \"+str(mean_squared)+\" RMSE: \"+str(root_mean_absolute)+\" r2: \"+str(r2))\n"
      ],
      "metadata": {
        "colab": {
          "base_uri": "https://localhost:8080/"
        },
        "id": "m5DfTmjEtuWc",
        "outputId": "291e3593-915b-41d5-9745-1db5ca756510"
      },
      "execution_count": 25,
      "outputs": [
        {
          "output_type": "stream",
          "name": "stdout",
          "text": [
            "[CV] END  neg_mean_absolute_error: (test=-15285630.180) neg_mean_squared_error: (test=-1285202616705213952.000) neg_root_mean_squared_error: (test=-1133667771.750) r2: (test=-5605696917.833) total time=  35.5s\n",
            "[CV] END  neg_mean_absolute_error: (test=-2919.582) neg_mean_squared_error: (test=-19322448.485) neg_root_mean_squared_error: (test=-4395.731) r2: (test=0.916) total time=  35.8s\n",
            "[CV] END  neg_mean_absolute_error: (test=-2907.344) neg_mean_squared_error: (test=-19150204.494) neg_root_mean_squared_error: (test=-4376.095) r2: (test=0.917) total time=  34.8s\n",
            "[CV] END  neg_mean_absolute_error: (test=-2913.942) neg_mean_squared_error: (test=-19168725.813) neg_root_mean_squared_error: (test=-4378.210) r2: (test=0.917) total time=  34.0s\n",
            "Fit time:34.52074009180069Score time:0.5147888660430908 MAE: -3823592.7617935166 MSE: -3.2130065419071386e+17 RMSE: -283420230.44649583 r2: -1401424228.7710292\n"
          ]
        }
      ]
    },
    {
      "cell_type": "markdown",
      "source": [
        "Come possiamo notare r2 è peggiore con la oneHotEncoder, anche il tempo di fit e score sono notevolmente più alti. Di coseguenza non è stata implementata nel progetto."
      ],
      "metadata": {
        "id": "Z6bEeIAS0sfb"
      }
    },
    {
      "cell_type": "markdown",
      "source": [
        "#Il progetto"
      ],
      "metadata": {
        "id": "0q8ROLkx1SZR"
      }
    },
    {
      "cell_type": "markdown",
      "source": [
        "Il resto del progetto provvederà a provare diverse normalizzazioni sui dati, oltre a fornire una pulizia degli outlier e comparere i risultati di oltre 17 regressori diversi. Tutto facilemnte consultabile attraverso una GUI."
      ],
      "metadata": {
        "id": "X3brxQBZ1VbS"
      }
    }
  ]
}